{
 "cells": [
  {
   "cell_type": "code",
   "execution_count": null,
   "metadata": {},
   "outputs": [],
   "source": [
    "-- Fill Down Prior Record If Current Record Is Missing\n",
    "DROP TABLE #C\n",
    "CREATE TABLE #C (SomeData CHAR(1) , ID INT)\n",
    "INSERT INTO #C values('A', 1)\n",
    "INSERT INTO #C values(NULL, 2)\n",
    "INSERT INTO #C values('B', 3)\n",
    "INSERT INTO #C values('C', 4)\n",
    "INSERT INTO #C values(NULL, 5)\n",
    "INSERT INTO #C values('D', 6)\n",
    "\n",
    "\n",
    "Select * From #C\n",
    "\n",
    "SELECT CASE WHEN SomeData is not null\n",
    "            THEN SomeData\n",
    "            ELSE (SELECT max(SomeData)\n",
    "                  FROM #C\n",
    "                  WHERE ID <= t.ID)\n",
    "       END AS SomeData, ID\n",
    "FROM #C t \n"
   ]
  },
  {
   "cell_type": "code",
   "execution_count": 12,
   "metadata": {},
   "outputs": [
    {
     "data": {
      "image/png": "[encoded data removed]",
      "text/plain": [
       "<Figure size 432x288 with 1 Axes>"
      ]
     },
     "metadata": {
      "needs_background": "light"
     },
     "output_type": "display_data"
    }
   ],
   "source": [
    "\n",
    "import matplotlib.pyplot as plt\n",
    "import matplotlib.image as mpimg\n",
    "image = mpimg.imread('C:/Users/ryans/OneDrive/Desktop/fill_down.PNG')\n",
    "plt.imshow(image)\n",
    "plt.show()\n",
    "    "
   ]
  },
  {
   "cell_type": "code",
   "execution_count": null,
   "metadata": {},
   "outputs": [],
   "source": []
  },
  {
   "cell_type": "code",
   "execution_count": null,
   "metadata": {},
   "outputs": [],
   "source": []
  },
  {
   "cell_type": "code",
   "execution_count": null,
   "metadata": {},
   "outputs": [],
   "source": []
  },
  {
   "cell_type": "code",
   "execution_count": null,
   "metadata": {},
   "outputs": [],
   "source": []
  },
  {
   "cell_type": "code",
   "execution_count": null,
   "metadata": {},
   "outputs": [],
   "source": []
  },
  {
   "cell_type": "code",
   "execution_count": null,
   "metadata": {},
   "outputs": [],
   "source": []
  }
 ],
 "metadata": {
  "kernelspec": {
   "display_name": "Python 3",
   "language": "python",
   "name": "python3"
  },
  "language_info": {
   "codemirror_mode": {
    "name": "ipython",
    "version": 3
   },
   "file_extension": ".py",
   "mimetype": "text/x-python",
   "name": "python",
   "nbconvert_exporter": "python",
   "pygments_lexer": "ipython3",
   "version": "3.7.6"
  }
 },
 "nbformat": 4,
 "nbformat_minor": 4
}
