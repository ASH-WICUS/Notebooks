{
 "cells": [
  {
   "cell_type": "code",
   "execution_count": 66,
   "metadata": {},
   "outputs": [
    {
     "name": "stdout",
     "output_type": "stream",
     "text": [
      "Mean Square Error - Train: 1.256730769339527\n",
      "R^2 - Train: 0.9576216186338592\n",
      "Mean Square Error - Test: 5.317381182951843\n",
      "R^2 - Test: 0.07636056837621896\n"
     ]
    }
   ],
   "source": [
    "\n",
    "import pandas as pd\n",
    "import numpy as np\n",
    "from sklearn import model_selection\n",
    "from sklearn.linear_model import LinearRegression\n",
    "from sklearn.linear_model import Ridge\n",
    "from sklearn.linear_model import Lasso\n",
    "from sklearn.linear_model import ElasticNet\n",
    "from sklearn.neighbors import KNeighborsRegressor\n",
    "from sklearn.tree import DecisionTreeRegressor\n",
    "from sklearn.svm import SVR\n",
    "from sklearn.ensemble import RandomForestRegressor\n",
    "from sklearn.metrics import r2_score\n",
    "from sklearn.model_selection import train_test_split\n",
    "from sklearn.metrics import mean_squared_error\n",
    "from math import sqrt\n",
    "\n",
    "\n",
    "# Import CSV mtcars\n",
    "data = pd.read_csv('https://gist.githubusercontent.com/ZeccaLehn/4e06d2575eb9589dbe8c365d61cb056c/raw/64f1660f38ef523b2a1a13be77b002b98665cdfe/mtcars.csv')\n",
    "# Edit element of column header\n",
    "# data.rename(columns={'Unnamed: 0':'brand'}, inplace=True)\n",
    "\n",
    "list(data)\n",
    "\n",
    "\n",
    "X = data[['cyl',\n",
    "     'disp',\n",
    "     'hp',\n",
    "     'drat',\n",
    "     'wt',\n",
    "     'qsec',\n",
    "     'vs',\n",
    "     'am',\n",
    "     'gear',\n",
    "     'carb']].values\n",
    "y = data['mpg'].values\n",
    "\n",
    "\n",
    "X_train, X_test, y_train, y_test = train_test_split(X, y, test_size=0.30, random_state=40)\n",
    "\n",
    "\n",
    "# LINEAR REGRESSION\n",
    "lr = LinearRegression()\n",
    "lr.fit(X_train, y_train)\n",
    "pred_train_lr= lr.predict(X_train)\n",
    "print('Mean Square Error - Train: ' + str(np.sqrt(mean_squared_error(y_train,pred_train_lr))))\n",
    "print('R^2 - Train: ' + str(r2_score(y_train, pred_train_lr)))\n",
    "pred_test_lr= lr.predict(X_test)\n",
    "print('Mean Square Error - Test: ' + str(np.sqrt(mean_squared_error(y_test,pred_test_lr))) )\n",
    "print('R^2 - Test: ' + str(r2_score(y_test, pred_test_lr)))\n",
    "\n",
    "# The mean squared error (MSE) of an estimator (of a procedure for estimating an unobserved quantity) measures the average of the squares of the errors—that is, the average squared difference between the estimated values and the actual value. \n",
    "# The MSE is a measure of the quality of an estimator—it is always non-negative, and values closer to zero are better. \n",
    "# The coefficient of determination, denoted R^2 or \"R squared\", is the proportion of the variance in the dependent variable that is predictable from the independent variable(s). \n",
    "# The R^2 value gives the measure of how much variance is explained by model.  Normally it ranges from 0 to 1, and if it is 1, it means any changes in independent variables will explain movements in the dependent variable, with 100% certainty."
   ]
  },
  {
   "cell_type": "code",
   "execution_count": 67,
   "metadata": {},
   "outputs": [
    {
     "name": "stdout",
     "output_type": "stream",
     "text": [
      "Mean Square Error - Train: 1.2568136975810997\n",
      "R^2 - Train: 0.9576160255813377\n",
      "Mean Square Error - Test: 5.276860048291041\n",
      "R^2 - Test: 0.0903841301560453\n"
     ]
    }
   ],
   "source": [
    "\n",
    "# RIDGE REGRESSION\n",
    "rr = Ridge(alpha=0.01)\n",
    "rr.fit(X_train, y_train) \n",
    "pred_train_rr= rr.predict(X_train)\n",
    "print('Mean Square Error - Train: ' + str(np.sqrt(mean_squared_error(y_train,pred_train_rr))))\n",
    "print('R^2 - Train: ' + str(r2_score(y_train, pred_train_rr)))\n",
    "pred_test_rr= rr.predict(X_test)\n",
    "print('Mean Square Error - Test: ' + str(np.sqrt(mean_squared_error(y_test,pred_test_rr))) )\n",
    "print('R^2 - Test: ' + str(r2_score(y_test, pred_test_rr)))\n"
   ]
  },
  {
   "cell_type": "code",
   "execution_count": 68,
   "metadata": {},
   "outputs": [
    {
     "name": "stdout",
     "output_type": "stream",
     "text": [
      "Mean Square Error - Train: 1.261726838462164\n",
      "R^2 - Train: 0.9572840026871487\n",
      "Mean Square Error - Test: 5.0753179454666695\n",
      "R^2 - Test: 0.15854017700268797\n"
     ]
    }
   ],
   "source": [
    "\n",
    "# LASSO REGRESSION\n",
    "model_lasso = Lasso(alpha=0.01)\n",
    "model_lasso.fit(X_train, y_train) \n",
    "pred_train_lasso= model_lasso.predict(X_train)\n",
    "print('Mean Square Error - Train: ' + str(np.sqrt(mean_squared_error(y_train,pred_train_lasso))))\n",
    "print('R^2 - Train: ' + str(r2_score(y_train, pred_train_lasso)))\n",
    "pred_test_lasso= model_lasso.predict(X_test)\n",
    "print('Mean Square Error - Test: ' + str(np.sqrt(mean_squared_error(y_test,pred_test_lasso))))\n",
    "print('R^2 - Test: ' + str(r2_score(y_test, pred_test_lasso)))\n"
   ]
  },
  {
   "cell_type": "code",
   "execution_count": 69,
   "metadata": {},
   "outputs": [
    {
     "name": "stdout",
     "output_type": "stream",
     "text": [
      "Mean Square Error - Train: 1.269167847953475\n",
      "R^2 - Train: 0.9567786834861433\n",
      "Mean Square Error - Test: 4.876381651444122\n",
      "R^2 - Test: 0.2232124548612836\n"
     ]
    }
   ],
   "source": [
    "\n",
    "# ELASTIC NET REGRESSION\n",
    "model_enet = ElasticNet(alpha = 0.01)\n",
    "model_enet.fit(X_train, y_train) \n",
    "pred_train_enet= model_enet.predict(X_train)\n",
    "print('Mean Square Error - Train: ' + str(np.sqrt(mean_squared_error(y_train,pred_train_enet))))\n",
    "print('R^2 - Train: ' + str(r2_score(y_train, pred_train_enet)))\n",
    "pred_test_enet= model_enet.predict(X_test)\n",
    "print('Mean Square Error - Test: ' + str(np.sqrt(mean_squared_error(y_test,pred_test_enet))))\n",
    "print('R^2 - Test: ' + str(r2_score(y_test, pred_test_enet)))\n"
   ]
  },
  {
   "cell_type": "code",
   "execution_count": null,
   "metadata": {},
   "outputs": [],
   "source": [
    "\n",
    "# Final Conclusion: none of the models listed above can accurately predict dependent variables, based on given independent variables.  At least, not on the MTCars dataset.\n",
    "    "
   ]
  }
 ],
 "metadata": {
  "kernelspec": {
   "display_name": "Python 3",
   "language": "python",
   "name": "python3"
  },
  "language_info": {
   "codemirror_mode": {
    "name": "ipython",
    "version": 3
   },
   "file_extension": ".py",
   "mimetype": "text/x-python",
   "name": "python",
   "nbconvert_exporter": "python",
   "pygments_lexer": "ipython3",
   "version": "3.7.6"
  }
 },
 "nbformat": 4,
 "nbformat_minor": 4
}
