

import json
import requests
from bs4 import BeautifulSoup
from pandas import DataFrame
import pandas as pd
    
url = 'https://etfdb.com/api/screener/'
json_data = {"tab":"returns","page":1,"only":["meta","data",None]}
headers = {'User-Agent': 'Mozilla/5.0 (X11; Ubuntu; Linux x86_64; rv:77.0) Gecko/20100101 Firefox/77.0', 'Accept':'application/json'}
your_list = []

#for page in range(1, 10):  # <-- increase this to desired number of pages
#for page in range(11, 20): #1
#for page in range(21, 30): #2
#for page in range(31, 40): #3
#for page in range(41, 50): #4
#for page in range(51, 60): #5
#for page in range(61, 70): #6
#for page in range(71, 80): #7 
#for page in range(81, 90): #8
for page in range(91, 93): #9
    
    json_data['page'] = page
    data = requests.post(url, json=json_data, headers=headers).json()
    #data = requests.post(url, json=json_data, headers=headers).json()
    # uncomment this to print all data:
    # print(json.dumps(data, indent=4))
    # print some data to screen:
    for d in data['data']:
        your_list.append('{:<5}{:<50}{:>9}{:>9}{:>9}{:>9}{:>9}{:>9}'.format(d['symbol']['text'], d['name']['text'], d['one_week_return'], d['four_week_return'], d['ytd'], d['fifty_two_week'], d['three_ytd'], d['five_ytd']))
        df = DataFrame(your_list)
        df1 = df[0].str.rsplit(n=6, expand=True)
        df2 = df1.pop(0).str.split(n=1, expand=True)
        
        df = pd.concat([df2, df1], axis=1)
        df.columns =['symbol', 'name', 'one_week_return', 'four_week_return', 'ytd', '1Y', '3Y', '5Y']
        #print(page)

df.to_csv('C:\\Users\\ryans\\OneDrive\\Desktop\\ETF_1.csv')



###################################################################



def do_calculation(number1, number2):
    return number1 + number2

number1 = float(input("Enter the first number: "))
number2 = float(input("Enter the second number: "))
solution = do_calculation(number1, number2)
print("The sum of your numbers is {}".format(solution))






                    






