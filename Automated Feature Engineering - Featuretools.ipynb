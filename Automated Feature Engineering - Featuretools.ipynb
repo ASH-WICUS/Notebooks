{
 "cells": [
  {
   "cell_type": "code",
   "execution_count": 5,
   "metadata": {},
   "outputs": [
    {
     "data": {
      "text/plain": [
       "['client_id',\n",
       " 'loan_type',\n",
       " 'loan_amount',\n",
       " 'repaid',\n",
       " 'loan_id',\n",
       " 'loan_start',\n",
       " 'loan_end',\n",
       " 'rate']"
      ]
     },
     "execution_count": 5,
     "metadata": {},
     "output_type": "execute_result"
    }
   ],
   "source": [
    "\n",
    "import featuretools as ft\n",
    "import numpy as np\n",
    "import pandas as pd\n",
    "\n",
    "data = pd.read_csv(\"C:\\\\loans.csv\")\n",
    "data\n",
    "\n",
    "list(data)"
   ]
  },
  {
   "cell_type": "code",
   "execution_count": 6,
   "metadata": {},
   "outputs": [
    {
     "data": {
      "text/html": [
       "<div>\n",
       "<style scoped>\n",
       "    .dataframe tbody tr th:only-of-type {\n",
       "        vertical-align: middle;\n",
       "    }\n",
       "\n",
       "    .dataframe tbody tr th {\n",
       "        vertical-align: top;\n",
       "    }\n",
       "\n",
       "    .dataframe thead th {\n",
       "        text-align: right;\n",
       "    }\n",
       "</style>\n",
       "<table border=\"1\" class=\"dataframe\">\n",
       "  <thead>\n",
       "    <tr style=\"text-align: right;\">\n",
       "      <th></th>\n",
       "      <th>client_id</th>\n",
       "      <th>loan_type</th>\n",
       "      <th>loan_amount</th>\n",
       "      <th>repaid</th>\n",
       "      <th>loan_id</th>\n",
       "      <th>loan_start</th>\n",
       "      <th>loan_end</th>\n",
       "      <th>rate</th>\n",
       "    </tr>\n",
       "  </thead>\n",
       "  <tbody>\n",
       "    <tr>\n",
       "      <th>0</th>\n",
       "      <td>46109</td>\n",
       "      <td>home</td>\n",
       "      <td>13672</td>\n",
       "      <td>0</td>\n",
       "      <td>10243</td>\n",
       "      <td>2002-04-16</td>\n",
       "      <td>2003-12-20</td>\n",
       "      <td>2.15</td>\n",
       "    </tr>\n",
       "    <tr>\n",
       "      <th>1</th>\n",
       "      <td>46109</td>\n",
       "      <td>credit</td>\n",
       "      <td>9794</td>\n",
       "      <td>0</td>\n",
       "      <td>10984</td>\n",
       "      <td>2003-10-21</td>\n",
       "      <td>2005-07-17</td>\n",
       "      <td>1.25</td>\n",
       "    </tr>\n",
       "    <tr>\n",
       "      <th>2</th>\n",
       "      <td>46109</td>\n",
       "      <td>home</td>\n",
       "      <td>12734</td>\n",
       "      <td>1</td>\n",
       "      <td>10990</td>\n",
       "      <td>2006-02-01</td>\n",
       "      <td>2007-07-05</td>\n",
       "      <td>0.68</td>\n",
       "    </tr>\n",
       "    <tr>\n",
       "      <th>3</th>\n",
       "      <td>46109</td>\n",
       "      <td>cash</td>\n",
       "      <td>12518</td>\n",
       "      <td>1</td>\n",
       "      <td>10596</td>\n",
       "      <td>2010-12-08</td>\n",
       "      <td>2013-05-05</td>\n",
       "      <td>1.24</td>\n",
       "    </tr>\n",
       "    <tr>\n",
       "      <th>4</th>\n",
       "      <td>46109</td>\n",
       "      <td>credit</td>\n",
       "      <td>14049</td>\n",
       "      <td>1</td>\n",
       "      <td>11415</td>\n",
       "      <td>2010-07-07</td>\n",
       "      <td>2012-05-21</td>\n",
       "      <td>3.13</td>\n",
       "    </tr>\n",
       "    <tr>\n",
       "      <th>5</th>\n",
       "      <td>46109</td>\n",
       "      <td>home</td>\n",
       "      <td>6935</td>\n",
       "      <td>0</td>\n",
       "      <td>11501</td>\n",
       "      <td>2006-09-17</td>\n",
       "      <td>2008-11-26</td>\n",
       "      <td>1.94</td>\n",
       "    </tr>\n",
       "    <tr>\n",
       "      <th>6</th>\n",
       "      <td>46109</td>\n",
       "      <td>cash</td>\n",
       "      <td>6177</td>\n",
       "      <td>1</td>\n",
       "      <td>11141</td>\n",
       "      <td>2007-03-12</td>\n",
       "      <td>2009-04-26</td>\n",
       "      <td>9.48</td>\n",
       "    </tr>\n",
       "    <tr>\n",
       "      <th>7</th>\n",
       "      <td>46109</td>\n",
       "      <td>home</td>\n",
       "      <td>12656</td>\n",
       "      <td>0</td>\n",
       "      <td>11658</td>\n",
       "      <td>2006-05-26</td>\n",
       "      <td>2007-10-15</td>\n",
       "      <td>4.14</td>\n",
       "    </tr>\n",
       "    <tr>\n",
       "      <th>8</th>\n",
       "      <td>46109</td>\n",
       "      <td>home</td>\n",
       "      <td>11062</td>\n",
       "      <td>1</td>\n",
       "      <td>11611</td>\n",
       "      <td>2012-09-12</td>\n",
       "      <td>2014-03-14</td>\n",
       "      <td>5.48</td>\n",
       "    </tr>\n",
       "    <tr>\n",
       "      <th>9</th>\n",
       "      <td>46109</td>\n",
       "      <td>other</td>\n",
       "      <td>4050</td>\n",
       "      <td>1</td>\n",
       "      <td>10828</td>\n",
       "      <td>2003-12-06</td>\n",
       "      <td>2005-08-19</td>\n",
       "      <td>4.26</td>\n",
       "    </tr>\n",
       "  </tbody>\n",
       "</table>\n",
       "</div>"
      ],
      "text/plain": [
       "   client_id loan_type  loan_amount  repaid  loan_id  loan_start    loan_end  \\\n",
       "0      46109      home        13672       0    10243  2002-04-16  2003-12-20   \n",
       "1      46109    credit         9794       0    10984  2003-10-21  2005-07-17   \n",
       "2      46109      home        12734       1    10990  2006-02-01  2007-07-05   \n",
       "3      46109      cash        12518       1    10596  2010-12-08  2013-05-05   \n",
       "4      46109    credit        14049       1    11415  2010-07-07  2012-05-21   \n",
       "5      46109      home         6935       0    11501  2006-09-17  2008-11-26   \n",
       "6      46109      cash         6177       1    11141  2007-03-12  2009-04-26   \n",
       "7      46109      home        12656       0    11658  2006-05-26  2007-10-15   \n",
       "8      46109      home        11062       1    11611  2012-09-12  2014-03-14   \n",
       "9      46109     other         4050       1    10828  2003-12-06  2005-08-19   \n",
       "\n",
       "   rate  \n",
       "0  2.15  \n",
       "1  1.25  \n",
       "2  0.68  \n",
       "3  1.24  \n",
       "4  3.13  \n",
       "5  1.94  \n",
       "6  9.48  \n",
       "7  4.14  \n",
       "8  5.48  \n",
       "9  4.26  "
      ]
     },
     "execution_count": 6,
     "metadata": {},
     "output_type": "execute_result"
    }
   ],
   "source": [
    "\n",
    "data.head(10)\n"
   ]
  },
  {
   "cell_type": "code",
   "execution_count": 7,
   "metadata": {},
   "outputs": [
    {
     "name": "stdout",
     "output_type": "stream",
     "text": [
      "              precision    recall  f1-score   support\n",
      "\n",
      "           0       1.00      1.00      1.00        41\n",
      "           1       1.00      1.00      1.00        48\n",
      "\n",
      "    accuracy                           1.00        89\n",
      "   macro avg       1.00      1.00      1.00        89\n",
      "weighted avg       1.00      1.00      1.00        89\n",
      "\n",
      "1.0\n"
     ]
    },
    {
     "data": {
      "text/plain": [
       "<matplotlib.axes._subplots.AxesSubplot at 0x2374a8ed048>"
      ]
     },
     "execution_count": 7,
     "metadata": {},
     "output_type": "execute_result"
    },
    {
     "data": {
      "image/png": "[encoded data removed]",
      "text/plain": [
       "<Figure size 432x288 with 1 Axes>"
      ]
     },
     "metadata": {
      "needs_background": "light"
     },
     "output_type": "display_data"
    }
   ],
   "source": [
    "\n",
    "# In the dataframe shown directly above we can see the features in the dataset.  Honesylt, there is not a whole lot here that we can work with.\n",
    "# We can't train our model on IDs, and we may not be savy enough in the domain of 'loan' to know how to fully utilize the dates features.\n",
    "# Even though we have some serious handicaps in knowledge, let's find the independent features that have the highest statistical impact on the dependent feature ('repaid').\n",
    "# Manual Feature Engineering\n",
    "X = data.drop(['client_id','loan_id','loan_type','loan_start','loan_end'], axis=1)\n",
    "y = data['repaid']\n",
    "\n",
    "\n",
    "from sklearn.model_selection import train_test_split\n",
    "X_train, X_test, y_train, y_test = train_test_split(X, y, test_size = 0.2, random_state = 0)\n",
    "\n",
    "\n",
    "from sklearn.ensemble import RandomForestClassifier\n",
    "classifier = RandomForestClassifier(n_estimators=200, random_state=0)  \n",
    "classifier.fit(X_train, y_train)  \n",
    "predictions = classifier.predict(X_test)\n",
    "\n",
    "\n",
    "from sklearn.metrics import classification_report, accuracy_score\n",
    "print(classification_report(y_test,predictions ))  \n",
    "print(accuracy_score(y_test, predictions ))\n",
    "\n",
    "\n",
    "feat_importances = pd.Series(classifier.feature_importances_, index=X.columns)\n",
    "feat_importances.nlargest(10).plot(kind='barh')\n"
   ]
  },
  {
   "cell_type": "code",
   "execution_count": 8,
   "metadata": {},
   "outputs": [
    {
     "data": {
      "text/plain": [
       "['client_id',\n",
       " 'loan_type',\n",
       " 'loan_amount',\n",
       " 'repaid',\n",
       " 'loan_id',\n",
       " 'rate',\n",
       " 'DAY(loan_end)',\n",
       " 'DAY(loan_start)',\n",
       " 'IS_WEEKEND(loan_end)',\n",
       " 'IS_WEEKEND(loan_start)',\n",
       " 'CUM_MIN(repaid)',\n",
       " 'CUM_MIN(client_id)',\n",
       " 'CUM_MIN(loan_id)',\n",
       " 'CUM_MIN(loan_amount)',\n",
       " 'CUM_MIN(rate)',\n",
       " 'MINUTE(loan_end)',\n",
       " 'MINUTE(loan_start)',\n",
       " 'WEEKDAY(loan_end)',\n",
       " 'WEEKDAY(loan_start)',\n",
       " 'PERCENTILE(repaid)',\n",
       " 'PERCENTILE(client_id)',\n",
       " 'PERCENTILE(loan_id)',\n",
       " 'PERCENTILE(loan_amount)',\n",
       " 'PERCENTILE(rate)',\n",
       " 'YEAR(loan_end)',\n",
       " 'YEAR(loan_start)',\n",
       " 'WEEK(loan_end)',\n",
       " 'WEEK(loan_start)',\n",
       " 'CUM_MEAN(repaid)',\n",
       " 'CUM_MEAN(client_id)',\n",
       " 'CUM_MEAN(loan_id)',\n",
       " 'CUM_MEAN(loan_amount)',\n",
       " 'CUM_MEAN(rate)',\n",
       " 'PERCENTILE(MINUTE(loan_end))',\n",
       " 'PERCENTILE(CUM_MIN(rate))',\n",
       " 'PERCENTILE(CUM_MIN(client_id))',\n",
       " 'PERCENTILE(CUM_MIN(loan_id))',\n",
       " 'PERCENTILE(MINUTE(loan_start))',\n",
       " 'PERCENTILE(CUM_MIN(repaid))',\n",
       " 'PERCENTILE(CUM_MIN(loan_amount))',\n",
       " 'CUM_MEAN(MINUTE(loan_end))',\n",
       " 'CUM_MEAN(PERCENTILE(loan_amount))',\n",
       " 'CUM_MEAN(PERCENTILE(rate))',\n",
       " 'CUM_MEAN(PERCENTILE(repaid))',\n",
       " 'CUM_MEAN(CUM_MIN(rate))',\n",
       " 'CUM_MEAN(CUM_MIN(client_id))',\n",
       " 'CUM_MEAN(CUM_MIN(loan_id))',\n",
       " 'CUM_MEAN(MINUTE(loan_start))',\n",
       " 'CUM_MEAN(PERCENTILE(loan_id))',\n",
       " 'CUM_MEAN(PERCENTILE(client_id))',\n",
       " 'CUM_MEAN(CUM_MIN(repaid))',\n",
       " 'CUM_MEAN(CUM_MIN(loan_amount))']"
      ]
     },
     "execution_count": 8,
     "metadata": {},
     "output_type": "execute_result"
    }
   ],
   "source": [
    "\n",
    "# I recently came across 'featuretools', which allows users to do automated featue engineering.\n",
    "# Without knowing a whole lot about the 'loans' business, let's have the computer create some features for us automatically, based on time slices, percentiles, cumulative means, etc., etc., etc.\n",
    "es = ft.EntitySet(id=\"customer_data\")\n",
    "es = es.entity_from_dataframe(entity_id='client_id',\n",
    "                              dataframe=data,\n",
    "                              index=\"id\",\n",
    "                              make_index=True)\n",
    "\n",
    "feature_matrix, feature_defs = ft.dfs(entityset=es,\n",
    "                                      target_entity=\"client_id\",\n",
    "                                      trans_primitives=['time_since', 'day', 'is_weekend',\n",
    "                                                        'cum_min', 'minute',\n",
    "                                                        'num_words', 'weekday', 'cum_count',\n",
    "                                                        'percentile', 'year', 'week',\n",
    "                                                        'cum_mean'])\n",
    "list(feature_matrix)\n",
    "\n",
    "# Note: these are just a small subset of all the priitives you can fiddle around with.\n",
    "# See the link below for a much more comprehensive list of primitivas that you can work with.\n",
    "# https://primitives.featurelabs.com/"
   ]
  },
  {
   "cell_type": "code",
   "execution_count": 9,
   "metadata": {
    "scrolled": true
   },
   "outputs": [
    {
     "data": {
      "image/png": "[encoded data removed]",
      "text/plain": [
       "<Figure size 432x288 with 1 Axes>"
      ]
     },
     "metadata": {
      "needs_background": "light"
     },
     "output_type": "display_data"
    }
   ],
   "source": [
    "\n",
    "# Wow, now we have a great selection of features to experiment with!\n",
    "import matplotlib.pyplot as plt\n",
    "\n",
    "features = np.array(['loan_amount',\n",
    "             'rate',\n",
    "             'DAY(loan_start)',\n",
    "             'DAY(loan_end)',\n",
    "             'IS_WEEKEND(loan_start)',\n",
    "             'IS_WEEKEND(loan_end)',\n",
    "             'CUM_MIN(rate)',\n",
    "             'CUM_MIN(client_id)',\n",
    "             'CUM_MIN(loan_id)',\n",
    "             'CUM_MIN(repaid)',\n",
    "             'CUM_MIN(loan_amount)',\n",
    "             'MINUTE(loan_start)',\n",
    "             'MINUTE(loan_end)',\n",
    "             'WEEKDAY(loan_start)',\n",
    "             'WEEKDAY(loan_end)',\n",
    "             'PERCENTILE(rate)',\n",
    "             'PERCENTILE(client_id)',\n",
    "             'PERCENTILE(loan_id)',\n",
    "             'PERCENTILE(repaid)',\n",
    "             'PERCENTILE(loan_amount)',\n",
    "             'YEAR(loan_start)',\n",
    "             'YEAR(loan_end)',\n",
    "             'WEEK(loan_start)',\n",
    "             'WEEK(loan_end)',\n",
    "             'CUM_MEAN(rate)',\n",
    "             'CUM_MEAN(client_id)',\n",
    "             'CUM_MEAN(loan_id)',\n",
    "             'CUM_MEAN(repaid)',\n",
    "             'CUM_MEAN(loan_amount)',\n",
    "             'PERCENTILE(CUM_MIN(repaid))',\n",
    "             'PERCENTILE(CUM_MIN(rate))',\n",
    "             'PERCENTILE(MINUTE(loan_start))',\n",
    "             'PERCENTILE(CUM_MIN(client_id))',\n",
    "             'PERCENTILE(CUM_MIN(loan_id))',\n",
    "             'PERCENTILE(CUM_MIN(loan_amount))',\n",
    "             'PERCENTILE(MINUTE(loan_end))',\n",
    "             'CUM_MEAN(PERCENTILE(loan_id))',\n",
    "             'CUM_MEAN(CUM_MIN(repaid))',\n",
    "             'CUM_MEAN(CUM_MIN(rate))',\n",
    "             'CUM_MEAN(PERCENTILE(loan_amount))',\n",
    "             'CUM_MEAN(PERCENTILE(repaid))',\n",
    "             'CUM_MEAN(MINUTE(loan_start))',\n",
    "             'CUM_MEAN(PERCENTILE(rate))',\n",
    "             'CUM_MEAN(CUM_MIN(client_id))',\n",
    "             'CUM_MEAN(CUM_MIN(loan_id))',\n",
    "             'CUM_MEAN(CUM_MIN(loan_amount))',\n",
    "             'CUM_MEAN(MINUTE(loan_end))',\n",
    "             'CUM_MEAN(PERCENTILE(client_id))'])\n",
    "\n",
    "from sklearn.ensemble import RandomForestClassifier\n",
    "clf = RandomForestClassifier()\n",
    "clf.fit(feature_matrix[features], feature_matrix['repaid'])\n",
    "\n",
    "# from the calculated importances, order them from most to least important\n",
    "# and make a barplot so we can visualize what is/isn't important\n",
    "importances = clf.feature_importances_\n",
    "sorted_idx = np.argsort(importances)\n",
    "\n",
    "padding = np.arange(len(features)) + 0.5\n",
    "plt.barh(padding, importances[sorted_idx], align='center')\n",
    "plt.yticks(padding, features[sorted_idx])\n",
    "plt.xlabel(\"Relative Importance\")\n",
    "plt.title(\"Variable Importance\")\n",
    "plt.show()\n"
   ]
  },
  {
   "cell_type": "code",
   "execution_count": 11,
   "metadata": {},
   "outputs": [
    {
     "name": "stdout",
     "output_type": "stream",
     "text": [
      "              precision    recall  f1-score   support\n",
      "\n",
      "           0       1.00      1.00      1.00        41\n",
      "           1       1.00      1.00      1.00        48\n",
      "\n",
      "    accuracy                           1.00        89\n",
      "   macro avg       1.00      1.00      1.00        89\n",
      "weighted avg       1.00      1.00      1.00        89\n",
      "\n",
      "1.0\n"
     ]
    },
    {
     "data": {
      "text/plain": [
       "<matplotlib.axes._subplots.AxesSubplot at 0x2374abb20c8>"
      ]
     },
     "execution_count": 11,
     "metadata": {},
     "output_type": "execute_result"
    },
    {
     "data": {
      "image/png": "[encoded data removed]",
      "text/plain": [
       "<Figure size 432x288 with 1 Axes>"
      ]
     },
     "metadata": {
      "needs_background": "light"
     },
     "output_type": "display_data"
    }
   ],
   "source": [
    "\n",
    "X = feature_matrix[features]\n",
    "y = feature_matrix['repaid']\n",
    "\n",
    "\n",
    "from sklearn.model_selection import train_test_split\n",
    "X_train, X_test, y_train, y_test = train_test_split(X, y, test_size = 0.2, random_state = 0)\n",
    "\n",
    "\n",
    "from sklearn.ensemble import RandomForestClassifier\n",
    "classifier = RandomForestClassifier(n_estimators=200, random_state=0)  \n",
    "classifier.fit(X_train, y_train)  \n",
    "predictions = classifier.predict(X_test)\n",
    "\n",
    "\n",
    "from sklearn.metrics import classification_report, accuracy_score\n",
    "print(classification_report(y_test,predictions ))  \n",
    "print(accuracy_score(y_test, predictions ))\n",
    "\n",
    "\n",
    "feat_importances = pd.Series(classifier.feature_importances_, index=X.columns)\n",
    "feat_importances.nlargest(10).plot(kind='barh')\n",
    "# Success! Now we have some very interesting, and of course very useful, features with which we can train our model to maximize it's ability to correctly predict the target variable.\n"
   ]
  },
  {
   "cell_type": "code",
   "execution_count": null,
   "metadata": {},
   "outputs": [],
   "source": [
    "\n",
    "# Data:\n",
    "# https://github.com/brynmwangy/Beginner-Guide-to-Automated-Feature-Engineering-With-Deep-Feature-Synthesis./blob/master/loans.csv\n"
   ]
  }
 ],
 "metadata": {
  "kernelspec": {
   "display_name": "Python 3",
   "language": "python",
   "name": "python3"
  },
  "language_info": {
   "codemirror_mode": {
    "name": "ipython",
    "version": 3
   },
   "file_extension": ".py",
   "mimetype": "text/x-python",
   "name": "python",
   "nbconvert_exporter": "python",
   "pygments_lexer": "ipython3",
   "version": "3.7.6"
  }
 },
 "nbformat": 4,
 "nbformat_minor": 4
}
