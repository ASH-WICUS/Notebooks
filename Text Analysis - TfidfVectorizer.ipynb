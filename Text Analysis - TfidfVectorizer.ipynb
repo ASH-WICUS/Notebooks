{
 "cells": [
  {
   "cell_type": "code",
   "execution_count": 14,
   "metadata": {},
   "outputs": [
    {
     "name": "stdout",
     "output_type": "stream",
     "text": [
      "(568454, 10)\n",
      "(28421, 11)\n"
     ]
    },
    {
     "data": {
      "text/plain": [
       "28567"
      ]
     },
     "execution_count": 14,
     "metadata": {},
     "output_type": "execute_result"
    }
   ],
   "source": [
    "\n",
    "import pandas as pd\n",
    "import numpy as np\n",
    "import warnings\n",
    "warnings.simplefilter(\"ignore\")\n",
    "\n",
    "\n",
    "df = pd.read_csv('C:\\\\Reviews.csv')\n",
    "df.head()\n",
    "print(df.shape)\n",
    "\n",
    "\n",
    "df.dropna(inplace=True)\n",
    "df[df['Score'] != 3]\n",
    "df['Positivity'] = np.where(df['Score'] > 3, 1, 0)\n",
    "df.head()\n",
    "\n",
    "\n",
    "\n",
    "# take a random sample of data to reduce size of data frame...or machine runs out of memory\n",
    "df = df.sample(frac=0.05, replace=True, random_state=1)\n",
    "print(df.shape)\n",
    "\n",
    "\n",
    "\n",
    "from sklearn.model_selection import train_test_split\n",
    "X_train, X_test, y_train, y_test = train_test_split(df['Text'], df['Positivity'], random_state = 0)\n",
    "\n",
    "\n",
    "\n",
    "from sklearn.model_selection import train_test_split\n",
    "X_train, X_test, y_train, y_test = train_test_split(df['Text'], df['Positivity'], random_state = 0)\n",
    "\n",
    "\n",
    "\n",
    "from sklearn.feature_extraction.text import CountVectorizer\n",
    "vect = CountVectorizer().fit(X_train)\n",
    "vect\n",
    "\n",
    "\n",
    "vect.get_feature_names()[::2000]\n",
    "\n",
    "len(vect.get_feature_names())\n",
    "\n"
   ]
  },
  {
   "cell_type": "code",
   "execution_count": 15,
   "metadata": {},
   "outputs": [
    {
     "name": "stdout",
     "output_type": "stream",
     "text": [
      "AUC:  0.803585328736499\n"
     ]
    }
   ],
   "source": [
    "\n",
    "X_train_vectorized = vect.transform(X_train)\n",
    "X_train_vectorized\n",
    "\n",
    "\n",
    "X_train_vectorized.toarray()\n",
    "\n",
    "\n",
    "from sklearn.linear_model import LogisticRegression\n",
    "model = LogisticRegression()\n",
    "model.fit(X_train_vectorized, y_train)\n",
    "\n",
    "\n",
    "from sklearn.metrics import roc_auc_score\n",
    "predictions = model.predict(vect.transform(X_test))\n",
    "print('AUC: ', roc_auc_score(y_test, predictions))\n",
    "\n"
   ]
  },
  {
   "cell_type": "code",
   "execution_count": 16,
   "metadata": {
    "scrolled": true
   },
   "outputs": [
    {
     "name": "stdout",
     "output_type": "stream",
     "text": [
      "AUC:  0.7434978811466946\n"
     ]
    }
   ],
   "source": [
    "\n",
    "from sklearn.feature_extraction.text import TfidfVectorizer\n",
    "vect = TfidfVectorizer(min_df = 5).fit(X_train)\n",
    "len(vect.get_feature_names())\n",
    "\n",
    "\n",
    "X_train_vectorized = vect.transform(X_train)\n",
    "model = LogisticRegression()\n",
    "model.fit(X_train_vectorized, y_train)\n",
    "predictions = model.predict(vect.transform(X_test))\n",
    "print('AUC: ', roc_auc_score(y_test, predictions))\n",
    "\n"
   ]
  },
  {
   "cell_type": "code",
   "execution_count": 23,
   "metadata": {},
   "outputs": [
    {
     "name": "stdout",
     "output_type": "stream",
     "text": [
      "Smallest Tfidf: \n",
      "['make from' 'or my' 'or natural' 'or night' 'or nothing' 'or nut' 'or of'\n",
      " 'or oil' 'or old' 'or on']\n",
      "\n",
      "Largest Tfidf: \n",
      "['the' 'br' 'to' 'and' 'of' 'oil' 'you' 'it' 'mole' 'br br']\n",
      "\n",
      "[0 0]\n"
     ]
    }
   ],
   "source": [
    "\n",
    "feature_names = np.array(vect.get_feature_names())\n",
    "sorted_tfidf_index = X_train_vectorized.max(0).toarray()[0].argsort()\n",
    "print('Smallest Tfidf: \\n{}\\n'.format(feature_names[sorted_tfidf_index[:10]]))\n",
    "print('Largest Tfidf: \\n{}\\n'.format(feature_names[sorted_tfidf_index[:-11:-1]]))\n",
    "\n",
    "\n",
    "\n",
    "# Let’s test our model:\n",
    "print(model.predict(vect.transform(['The candy is not good, I will never buy them again','The candy is not bad, I will buy them again'])))\n"
   ]
  },
  {
   "cell_type": "code",
   "execution_count": 18,
   "metadata": {
    "scrolled": true
   },
   "outputs": [
    {
     "name": "stdout",
     "output_type": "stream",
     "text": [
      "AUC:  0.8321158905019705\n"
     ]
    }
   ],
   "source": [
    "\n",
    "# n-grams\n",
    "# One way to fix this misclassification is to add n-grams. For example, \n",
    "# bigrams count pairs of adjacent words, and could give us features such as \n",
    "# bad versus not bad. Thus, we are refitting our training set specifying a \n",
    "# minimum document frequency of 5, and extracting 1-grams and 2-grams.\n",
    "vect = CountVectorizer(min_df = 5, ngram_range = (1,2)).fit(X_train)\n",
    "X_train_vectorized = vect.transform(X_train)\n",
    "len(vect.get_feature_names())\n",
    "\n",
    "model = LogisticRegression()\n",
    "model.fit(X_train_vectorized, y_train)\n",
    "predictions = model.predict(vect.transform(X_test))\n",
    "print('AUC: ', roc_auc_score(y_test, predictions))\n"
   ]
  },
  {
   "cell_type": "code",
   "execution_count": null,
   "metadata": {},
   "outputs": [],
   "source": [
    "\n",
    "# data:\n",
    "# https://www.kaggle.com/snap/amazon-fine-food-reviews\n",
    "\n"
   ]
  }
 ],
 "metadata": {
  "kernelspec": {
   "display_name": "Python 3",
   "language": "python",
   "name": "python3"
  },
  "language_info": {
   "codemirror_mode": {
    "name": "ipython",
    "version": 3
   },
   "file_extension": ".py",
   "mimetype": "text/x-python",
   "name": "python",
   "nbconvert_exporter": "python",
   "pygments_lexer": "ipython3",
   "version": "3.7.6"
  }
 },
 "nbformat": 4,
 "nbformat_minor": 4
}
