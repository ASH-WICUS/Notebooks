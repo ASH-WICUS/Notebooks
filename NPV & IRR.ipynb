{
 "cells": [
  {
   "cell_type": "code",
   "execution_count": 6,
   "id": "a5894fbf",
   "metadata": {},
   "outputs": [
    {
     "name": "stdout",
     "output_type": "stream",
     "text": [
      "Building\n",
      "Casino     12587.528174\n",
      "Stadium    57738.542449\n",
      "Name: Revenue, dtype: float64\n",
      "\n",
      "Building\n",
      "Casino     0.909400\n",
      "Stadium    0.679223\n",
      "Name: Revenue, dtype: float64\n"
     ]
    }
   ],
   "source": [
    "\n",
    "# NPV stands for Net Present Value, and it represents the positive and negative future cash flows throughout a \n",
    "# project’s life cycle discounted today. NPV represents an intrinsic appraisal, and it’s applicable in accounting \n",
    "# and finance where it is used to determine investment security, assess new ventures, value a business, or find \n",
    "# ways to effect a cost reduction.\n",
    "\n",
    "# IRR or Internal Rate of Return is a form of metric applicable in capital budgeting. It is used to estimate the \n",
    "# profitability of a probable business venture. The metric works as a discounting rate that equates NPV of cash \n",
    "# 3 flows to zero.\n",
    "\n",
    "# One alternative to using a loop to iterate over a DataFrame is to use the pandas .apply() method. \n",
    "# This function acts as a map() function in Python. It takes a function as an input and applies this \n",
    "# function to an entire DataFrame.\n",
    "\n",
    "import numpy_financial as npf\n",
    "import pandas as pd\n",
    "\n",
    "# Intitialise data of lists\n",
    "data = [{'Month': '2020-01-01', 'Expense':1000, 'Revenue':-50000, 'Building':'Stadium'}, \n",
    "       {'Month': '2020-02-01', 'Expense':3000, 'Revenue':40000, 'Building':'Stadium'},\n",
    "       {'Month': '2020-03-01', 'Expense':7000, 'Revenue':50000, 'Building':'Stadium'}, \n",
    "       {'Month': '2020-04-01', 'Expense':3000, 'Revenue':40000, 'Building':'Stadium'},\n",
    "       {'Month': '2020-01-01', 'Expense':5000, 'Revenue':-6000, 'Building':'Casino'}, \n",
    "       {'Month': '2020-02-01', 'Expense':5000, 'Revenue':4000, 'Building':'Casino'},\n",
    "       {'Month': '2020-03-01', 'Expense':5000, 'Revenue':9000, 'Building':'Casino'},\n",
    "       {'Month': '2020-04-01', 'Expense':6000, 'Revenue':10000, 'Building':'Casino'}]\n",
    "df = pd.DataFrame(data)\n",
    "df\n",
    "\n",
    "npv = df.groupby(\"Building\")[\"Revenue\"].apply(lambda x: npf.npv(rate=0.1, values=x))\n",
    "print(npv)\n",
    "\n",
    "print('')\n",
    "\n",
    "irr = df.groupby(\"Building\")[\"Revenue\"].apply(npf.irr)\n",
    "print(irr)\n"
   ]
  }
 ],
 "metadata": {
  "kernelspec": {
   "display_name": "Python 3 (ipykernel)",
   "language": "python",
   "name": "python3"
  },
  "language_info": {
   "codemirror_mode": {
    "name": "ipython",
    "version": 3
   },
   "file_extension": ".py",
   "mimetype": "text/x-python",
   "name": "python",
   "nbconvert_exporter": "python",
   "pygments_lexer": "ipython3",
   "version": "3.8.8"
  }
 },
 "nbformat": 4,
 "nbformat_minor": 5
}
