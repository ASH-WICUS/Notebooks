{
 "cells": [
  {
   "cell_type": "code",
   "execution_count": 59,
   "metadata": {},
   "outputs": [],
   "source": [
    "\n",
    "# In many cases using a For Loop to create a series of subplots allows for greater flexibility to customize the \n",
    "# individual plots compared to using the Pandas plot function.\n",
    "\n",
    "# There are multiple ways to create a series of subplots from a Pandas DataFrame. One of which is to use the Pandas \n",
    "# df.plot() function and passing in subplots = True argument. It’s a quick way to accomplish the goal of creating \n",
    "# subplots, however, the ability to customize an individual subplot is lost.\n",
    "\n",
    "# By looping through the DataFrame and creating individual subplot axis variables along the way, we can implement \n",
    "# custom formatting for each or all the subplots. \n"
   ]
  },
  {
   "cell_type": "code",
   "execution_count": 20,
   "metadata": {},
   "outputs": [
    {
     "data": {
      "text/html": [
       "<div>\n",
       "<style scoped>\n",
       "    .dataframe tbody tr th:only-of-type {\n",
       "        vertical-align: middle;\n",
       "    }\n",
       "\n",
       "    .dataframe tbody tr th {\n",
       "        vertical-align: top;\n",
       "    }\n",
       "\n",
       "    .dataframe thead th {\n",
       "        text-align: right;\n",
       "    }\n",
       "</style>\n",
       "<table border=\"1\" class=\"dataframe\">\n",
       "  <thead>\n",
       "    <tr style=\"text-align: right;\">\n",
       "      <th></th>\n",
       "      <th>Month</th>\n",
       "      <th>Expense</th>\n",
       "      <th>ID</th>\n",
       "    </tr>\n",
       "  </thead>\n",
       "  <tbody>\n",
       "    <tr>\n",
       "      <th>0</th>\n",
       "      <td>2020-01-01</td>\n",
       "      <td>1000</td>\n",
       "      <td>123</td>\n",
       "    </tr>\n",
       "    <tr>\n",
       "      <th>1</th>\n",
       "      <td>2020-02-01</td>\n",
       "      <td>3000</td>\n",
       "      <td>123</td>\n",
       "    </tr>\n",
       "    <tr>\n",
       "      <th>2</th>\n",
       "      <td>2020-03-01</td>\n",
       "      <td>2000</td>\n",
       "      <td>123</td>\n",
       "    </tr>\n",
       "    <tr>\n",
       "      <th>3</th>\n",
       "      <td>2020-01-01</td>\n",
       "      <td>3000</td>\n",
       "      <td>456</td>\n",
       "    </tr>\n",
       "    <tr>\n",
       "      <th>4</th>\n",
       "      <td>2020-02-01</td>\n",
       "      <td>5000</td>\n",
       "      <td>456</td>\n",
       "    </tr>\n",
       "    <tr>\n",
       "      <th>5</th>\n",
       "      <td>2020-03-01</td>\n",
       "      <td>10000</td>\n",
       "      <td>456</td>\n",
       "    </tr>\n",
       "    <tr>\n",
       "      <th>6</th>\n",
       "      <td>2020-03-01</td>\n",
       "      <td>5000</td>\n",
       "      <td>789</td>\n",
       "    </tr>\n",
       "    <tr>\n",
       "      <th>7</th>\n",
       "      <td>2020-04-01</td>\n",
       "      <td>2000</td>\n",
       "      <td>789</td>\n",
       "    </tr>\n",
       "    <tr>\n",
       "      <th>8</th>\n",
       "      <td>2020-05-01</td>\n",
       "      <td>3000</td>\n",
       "      <td>789</td>\n",
       "    </tr>\n",
       "  </tbody>\n",
       "</table>\n",
       "</div>"
      ],
      "text/plain": [
       "        Month  Expense   ID\n",
       "0  2020-01-01     1000  123\n",
       "1  2020-02-01     3000  123\n",
       "2  2020-03-01     2000  123\n",
       "3  2020-01-01     3000  456\n",
       "4  2020-02-01     5000  456\n",
       "5  2020-03-01    10000  456\n",
       "6  2020-03-01     5000  789\n",
       "7  2020-04-01     2000  789\n",
       "8  2020-05-01     3000  789"
      ]
     },
     "execution_count": 20,
     "metadata": {},
     "output_type": "execute_result"
    }
   ],
   "source": [
    "\n",
    "import requests\n",
    "import pandas as pd\n",
    "from pandas import DataFrame\n",
    "import matplotlib.pyplot as plt\n",
    "import seaborn as sns\n",
    "\n",
    "# Intitialise data of lists\n",
    "data = [{'Month': '2020-01-01', 'Expense':1000, 'ID':'123'}, \n",
    "       {'Month': '2020-02-01', 'Expense':3000, 'ID':'123'},\n",
    "       {'Month': '2020-03-01', 'Expense':2000, 'ID':'123'}, \n",
    "       {'Month': '2020-01-01', 'Expense':3000, 'ID':'456'},\n",
    "       {'Month': '2020-02-01', 'Expense':5000, 'ID':'456'}, \n",
    "       {'Month': '2020-03-01', 'Expense':10000, 'ID':'456'},\n",
    "       {'Month': '2020-03-01', 'Expense':5000, 'ID':'789'},\n",
    "       {'Month': '2020-04-01', 'Expense':2000, 'ID':'789'},\n",
    "       {'Month': '2020-05-01', 'Expense':3000, 'ID':'789'}]\n",
    "df = pd.DataFrame(data)\n",
    "df\n"
   ]
  },
  {
   "cell_type": "code",
   "execution_count": 21,
   "metadata": {},
   "outputs": [
    {
     "data": {
      "image/png": "[encoded data removed]",
      "text/plain": [
       "<Figure size 288x216 with 1 Axes>"
      ]
     },
     "metadata": {
      "needs_background": "light"
     },
     "output_type": "display_data"
    },
    {
     "data": {
      "image/png": "[encoded data removed]",
      "text/plain": [
       "<Figure size 288x216 with 1 Axes>"
      ]
     },
     "metadata": {
      "needs_background": "light"
     },
     "output_type": "display_data"
    },
    {
     "data": {
      "image/png": "[encoded data removed]",
      "text/plain": [
       "<Figure size 288x216 with 1 Axes>"
      ]
     },
     "metadata": {
      "needs_background": "light"
     },
     "output_type": "display_data"
    }
   ],
   "source": [
    "                                          \n",
    "uniques = df['ID'].unique()\n",
    "\n",
    "for i in uniques:\n",
    "    fig, ax = plt.subplots()\n",
    "    fig.set_size_inches(4,3)\n",
    "    df_single = df[df['ID']==i]\n",
    "    sns.lineplot(data=df_single, x='Month', y='Expense')\n",
    "    ax.set(xlabel='Time', ylabel='Total Expense')\n",
    "    plt.xticks(rotation=45)\n",
    "    plt.show()\n",
    "    "
   ]
  }
 ],
 "metadata": {
  "kernelspec": {
   "display_name": "Python 3",
   "language": "python",
   "name": "python3"
  },
  "language_info": {
   "codemirror_mode": {
    "name": "ipython",
    "version": 3
   },
   "file_extension": ".py",
   "mimetype": "text/x-python",
   "name": "python",
   "nbconvert_exporter": "python",
   "pygments_lexer": "ipython3",
   "version": "3.8.8"
  }
 },
 "nbformat": 4,
 "nbformat_minor": 4
}
