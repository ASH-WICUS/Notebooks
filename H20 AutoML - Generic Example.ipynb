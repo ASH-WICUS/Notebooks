{
 "cells": [
  {
   "cell_type": "code",
   "execution_count": 5,
   "metadata": {},
   "outputs": [
    {
     "name": "stdout",
     "output_type": "stream",
     "text": [
      "Checking whether there is an H2O instance running at http://localhost:54321 . connected.\n",
      "Warning: Your H2O cluster version is too old (3 months and 10 days)! Please download and install the latest version from http://h2o.ai/download/\n"
     ]
    },
    {
     "data": {
      "text/html": [
       "<div style=\"overflow:auto\"><table style=\"width:50%\"><tr><td>H2O_cluster_uptime:</td>\n",
       "<td>20 hours 21 mins</td></tr>\n",
       "<tr><td>H2O_cluster_timezone:</td>\n",
       "<td>America/New_York</td></tr>\n",
       "<tr><td>H2O_data_parsing_timezone:</td>\n",
       "<td>UTC</td></tr>\n",
       "<tr><td>H2O_cluster_version:</td>\n",
       "<td>3.30.0.1</td></tr>\n",
       "<tr><td>H2O_cluster_version_age:</td>\n",
       "<td>3 months and 10 days !!!</td></tr>\n",
       "<tr><td>H2O_cluster_name:</td>\n",
       "<td>H2O_from_python_ryans_w53o2h</td></tr>\n",
       "<tr><td>H2O_cluster_total_nodes:</td>\n",
       "<td>1</td></tr>\n",
       "<tr><td>H2O_cluster_free_memory:</td>\n",
       "<td>1.289 Gb</td></tr>\n",
       "<tr><td>H2O_cluster_total_cores:</td>\n",
       "<td>8</td></tr>\n",
       "<tr><td>H2O_cluster_allowed_cores:</td>\n",
       "<td>8</td></tr>\n",
       "<tr><td>H2O_cluster_status:</td>\n",
       "<td>locked, healthy</td></tr>\n",
       "<tr><td>H2O_connection_url:</td>\n",
       "<td>http://localhost:54321</td></tr>\n",
       "<tr><td>H2O_connection_proxy:</td>\n",
       "<td>{\"http\": null, \"https\": null}</td></tr>\n",
       "<tr><td>H2O_internal_security:</td>\n",
       "<td>False</td></tr>\n",
       "<tr><td>H2O_API_Extensions:</td>\n",
       "<td>Amazon S3, Algos, AutoML, Core V3, TargetEncoder, Core V4</td></tr>\n",
       "<tr><td>Python_version:</td>\n",
       "<td>3.7.6 final</td></tr></table></div>"
      ],
      "text/plain": [
       "--------------------------  ---------------------------------------------------------\n",
       "H2O_cluster_uptime:         20 hours 21 mins\n",
       "H2O_cluster_timezone:       America/New_York\n",
       "H2O_data_parsing_timezone:  UTC\n",
       "H2O_cluster_version:        3.30.0.1\n",
       "H2O_cluster_version_age:    3 months and 10 days !!!\n",
       "H2O_cluster_name:           H2O_from_python_ryans_w53o2h\n",
       "H2O_cluster_total_nodes:    1\n",
       "H2O_cluster_free_memory:    1.289 Gb\n",
       "H2O_cluster_total_cores:    8\n",
       "H2O_cluster_allowed_cores:  8\n",
       "H2O_cluster_status:         locked, healthy\n",
       "H2O_connection_url:         http://localhost:54321\n",
       "H2O_connection_proxy:       {\"http\": null, \"https\": null}\n",
       "H2O_internal_security:      False\n",
       "H2O_API_Extensions:         Amazon S3, Algos, AutoML, Core V3, TargetEncoder, Core V4\n",
       "Python_version:             3.7.6 final\n",
       "--------------------------  ---------------------------------------------------------"
      ]
     },
     "metadata": {},
     "output_type": "display_data"
    },
    {
     "name": "stdout",
     "output_type": "stream",
     "text": [
      "Parse progress: |█████████████████████████████████████████████████████████| 100%\n",
      "Parse progress: |█████████████████████████████████████████████████████████| 100%\n",
      "AutoML progress: |█\n",
      "14:11:11.709: AutoML: XGBoost is not available; skipping it.\n",
      "\n",
      "███████████████████████████████████████████████████Failed polling AutoML progress log: [WinError 32] The process cannot access the file because it is being used by another process: 'C:\\\\Users\\\\ryans\\\\AppData\\\\Local\\\\Temp\\\\tmpsbz_nq45.csv'\n",
      "████| 100%\n"
     ]
    },
    {
     "data": {
      "text/html": [
       "<table>\n",
       "<thead>\n",
       "<tr><th>model_id                                           </th><th style=\"text-align: right;\">     auc</th><th style=\"text-align: right;\">  logloss</th><th style=\"text-align: right;\">   aucpr</th><th style=\"text-align: right;\">  mean_per_class_error</th><th style=\"text-align: right;\">    rmse</th><th style=\"text-align: right;\">     mse</th></tr>\n",
       "</thead>\n",
       "<tbody>\n",
       "<tr><td>StackedEnsemble_AllModels_AutoML_20200714_141111   </td><td style=\"text-align: right;\">0.787916</td><td style=\"text-align: right;\"> 0.553829</td><td style=\"text-align: right;\">0.805132</td><td style=\"text-align: right;\">              0.324327</td><td style=\"text-align: right;\">0.43328 </td><td style=\"text-align: right;\">0.187732</td></tr>\n",
       "<tr><td>StackedEnsemble_BestOfFamily_AutoML_20200714_141111</td><td style=\"text-align: right;\">0.785161</td><td style=\"text-align: right;\"> 0.556351</td><td style=\"text-align: right;\">0.802576</td><td style=\"text-align: right;\">              0.33263 </td><td style=\"text-align: right;\">0.434448</td><td style=\"text-align: right;\">0.188745</td></tr>\n",
       "<tr><td>GBM_5_AutoML_20200714_141111                       </td><td style=\"text-align: right;\">0.780862</td><td style=\"text-align: right;\"> 0.559708</td><td style=\"text-align: right;\">0.799145</td><td style=\"text-align: right;\">              0.325399</td><td style=\"text-align: right;\">0.436083</td><td style=\"text-align: right;\">0.190168</td></tr>\n",
       "<tr><td>GBM_grid__1_AutoML_20200714_141111_model_6         </td><td style=\"text-align: right;\">0.779677</td><td style=\"text-align: right;\"> 0.559886</td><td style=\"text-align: right;\">0.801394</td><td style=\"text-align: right;\">              0.328174</td><td style=\"text-align: right;\">0.436728</td><td style=\"text-align: right;\">0.190731</td></tr>\n",
       "<tr><td>GBM_grid__1_AutoML_20200714_141111_model_3         </td><td style=\"text-align: right;\">0.779386</td><td style=\"text-align: right;\"> 0.562607</td><td style=\"text-align: right;\">0.797915</td><td style=\"text-align: right;\">              0.334245</td><td style=\"text-align: right;\">0.437242</td><td style=\"text-align: right;\">0.191181</td></tr>\n",
       "<tr><td>GBM_1_AutoML_20200714_141111                       </td><td style=\"text-align: right;\">0.778997</td><td style=\"text-align: right;\"> 0.56159 </td><td style=\"text-align: right;\">0.797276</td><td style=\"text-align: right;\">              0.326697</td><td style=\"text-align: right;\">0.437003</td><td style=\"text-align: right;\">0.190971</td></tr>\n",
       "<tr><td>GBM_2_AutoML_20200714_141111                       </td><td style=\"text-align: right;\">0.778338</td><td style=\"text-align: right;\"> 0.561527</td><td style=\"text-align: right;\">0.796497</td><td style=\"text-align: right;\">              0.329805</td><td style=\"text-align: right;\">0.437199</td><td style=\"text-align: right;\">0.191143</td></tr>\n",
       "<tr><td>GBM_grid__1_AutoML_20200714_141111_model_1         </td><td style=\"text-align: right;\">0.776443</td><td style=\"text-align: right;\"> 0.570148</td><td style=\"text-align: right;\">0.792348</td><td style=\"text-align: right;\">              0.333251</td><td style=\"text-align: right;\">0.440213</td><td style=\"text-align: right;\">0.193787</td></tr>\n",
       "<tr><td>GBM_3_AutoML_20200714_141111                       </td><td style=\"text-align: right;\">0.776389</td><td style=\"text-align: right;\"> 0.563906</td><td style=\"text-align: right;\">0.794032</td><td style=\"text-align: right;\">              0.328065</td><td style=\"text-align: right;\">0.438274</td><td style=\"text-align: right;\">0.192084</td></tr>\n",
       "<tr><td>GBM_grid__1_AutoML_20200714_141111_model_5         </td><td style=\"text-align: right;\">0.773405</td><td style=\"text-align: right;\"> 0.571628</td><td style=\"text-align: right;\">0.791952</td><td style=\"text-align: right;\">              0.328845</td><td style=\"text-align: right;\">0.4411  </td><td style=\"text-align: right;\">0.19457 </td></tr>\n",
       "<tr><td>GBM_4_AutoML_20200714_141111                       </td><td style=\"text-align: right;\">0.770758</td><td style=\"text-align: right;\"> 0.570912</td><td style=\"text-align: right;\">0.791118</td><td style=\"text-align: right;\">              0.353743</td><td style=\"text-align: right;\">0.441681</td><td style=\"text-align: right;\">0.195082</td></tr>\n",
       "<tr><td>DRF_1_AutoML_20200714_141111                       </td><td style=\"text-align: right;\">0.765151</td><td style=\"text-align: right;\"> 0.580246</td><td style=\"text-align: right;\">0.783657</td><td style=\"text-align: right;\">              0.340491</td><td style=\"text-align: right;\">0.445292</td><td style=\"text-align: right;\">0.198285</td></tr>\n",
       "<tr><td>XRT_1_AutoML_20200714_141111                       </td><td style=\"text-align: right;\">0.765134</td><td style=\"text-align: right;\"> 0.582172</td><td style=\"text-align: right;\">0.783242</td><td style=\"text-align: right;\">              0.349171</td><td style=\"text-align: right;\">0.446013</td><td style=\"text-align: right;\">0.198928</td></tr>\n",
       "<tr><td>GBM_grid__1_AutoML_20200714_141111_model_4         </td><td style=\"text-align: right;\">0.759978</td><td style=\"text-align: right;\"> 0.581741</td><td style=\"text-align: right;\">0.77626 </td><td style=\"text-align: right;\">              0.353778</td><td style=\"text-align: right;\">0.446201</td><td style=\"text-align: right;\">0.199095</td></tr>\n",
       "<tr><td>GBM_grid__1_AutoML_20200714_141111_model_2         </td><td style=\"text-align: right;\">0.758545</td><td style=\"text-align: right;\"> 0.597024</td><td style=\"text-align: right;\">0.775467</td><td style=\"text-align: right;\">              0.344634</td><td style=\"text-align: right;\">0.451469</td><td style=\"text-align: right;\">0.203825</td></tr>\n",
       "<tr><td>DeepLearning_grid__3_AutoML_20200714_141111_model_1</td><td style=\"text-align: right;\">0.744863</td><td style=\"text-align: right;\"> 0.596461</td><td style=\"text-align: right;\">0.755023</td><td style=\"text-align: right;\">              0.355795</td><td style=\"text-align: right;\">0.452385</td><td style=\"text-align: right;\">0.204652</td></tr>\n",
       "<tr><td>DeepLearning_grid__2_AutoML_20200714_141111_model_2</td><td style=\"text-align: right;\">0.723474</td><td style=\"text-align: right;\"> 0.639345</td><td style=\"text-align: right;\">0.72217 </td><td style=\"text-align: right;\">              0.372378</td><td style=\"text-align: right;\">0.466744</td><td style=\"text-align: right;\">0.21785 </td></tr>\n",
       "<tr><td>DeepLearning_1_AutoML_20200714_141111              </td><td style=\"text-align: right;\">0.70891 </td><td style=\"text-align: right;\"> 0.623892</td><td style=\"text-align: right;\">0.717181</td><td style=\"text-align: right;\">              0.405065</td><td style=\"text-align: right;\">0.465775</td><td style=\"text-align: right;\">0.216946</td></tr>\n",
       "<tr><td>DeepLearning_grid__2_AutoML_20200714_141111_model_1</td><td style=\"text-align: right;\">0.708834</td><td style=\"text-align: right;\"> 0.642871</td><td style=\"text-align: right;\">0.715903</td><td style=\"text-align: right;\">              0.381889</td><td style=\"text-align: right;\">0.469159</td><td style=\"text-align: right;\">0.22011 </td></tr>\n",
       "<tr><td>DeepLearning_grid__1_AutoML_20200714_141111_model_2</td><td style=\"text-align: right;\">0.698696</td><td style=\"text-align: right;\"> 0.706915</td><td style=\"text-align: right;\">0.699653</td><td style=\"text-align: right;\">              0.389627</td><td style=\"text-align: right;\">0.485749</td><td style=\"text-align: right;\">0.235952</td></tr>\n",
       "<tr><td>DeepLearning_grid__1_AutoML_20200714_141111_model_1</td><td style=\"text-align: right;\">0.698138</td><td style=\"text-align: right;\"> 0.676024</td><td style=\"text-align: right;\">0.703091</td><td style=\"text-align: right;\">              0.408099</td><td style=\"text-align: right;\">0.478712</td><td style=\"text-align: right;\">0.229165</td></tr>\n",
       "<tr><td>GLM_1_AutoML_20200714_141111                       </td><td style=\"text-align: right;\">0.682648</td><td style=\"text-align: right;\"> 0.63852 </td><td style=\"text-align: right;\">0.680715</td><td style=\"text-align: right;\">              0.397234</td><td style=\"text-align: right;\">0.472683</td><td style=\"text-align: right;\">0.223429</td></tr>\n",
       "</tbody>\n",
       "</table>"
      ]
     },
     "metadata": {},
     "output_type": "display_data"
    },
    {
     "data": {
      "text/plain": []
     },
     "execution_count": 5,
     "metadata": {},
     "output_type": "execute_result"
    }
   ],
   "source": [
    "\n",
    "# In recent years, the demand for machine learning experts has outpaced the supply, despite the surge of people entering the field. To address this gap, there have been big strides in the development of user-friendly machine learning software that can be used by non-experts. The first steps toward simplifying machine learning involved developing simple, unified interfaces to a variety of machine learning algorithms (e.g. H2O).\n",
    "\n",
    "# H2O’s AutoML can be used for automating the machine learning workflow, which includes automatic training and tuning of many models within a user-specified time-limit.\n",
    "\n",
    "import h2o\n",
    "from h2o.automl import H2OAutoML\n",
    "\n",
    "h2o.init()\n",
    "\n",
    "# Import a sample binary outcome train/test set into H2O\n",
    "train = h2o.import_file(\"https://s3.amazonaws.com/erin-data/higgs/higgs_train_10k.csv\")\n",
    "test = h2o.import_file(\"https://s3.amazonaws.com/erin-data/higgs/higgs_test_5k.csv\")\n",
    "\n",
    "# Identify predictors and response\n",
    "x = train.columns\n",
    "y = \"response\"\n",
    "x.remove(y)\n",
    "\n",
    "# For binary classification, response should be a factor\n",
    "train[y] = train[y].asfactor()\n",
    "test[y] = test[y].asfactor()\n",
    "\n",
    "# Run AutoML for 20 base models (limited to 1 hour max runtime by default)\n",
    "aml = H2OAutoML(max_models=20, seed=1)\n",
    "aml.train(x=x, y=y, training_frame=train)\n",
    "\n",
    "# View the AutoML Leaderboard\n",
    "lb = aml.leaderboard\n",
    "lb.head(rows=lb.nrows)  # Print all rows instead of default (10 rows)\n"
   ]
  },
  {
   "cell_type": "code",
   "execution_count": 6,
   "metadata": {},
   "outputs": [
    {
     "name": "stdout",
     "output_type": "stream",
     "text": [
      "stackedensemble prediction progress: |████████████████████████████████████| 100%\n",
      "stackedensemble prediction progress: |████████████████████████████████████| 100%\n"
     ]
    },
    {
     "data": {
      "text/html": [
       "<table>\n",
       "<thead>\n",
       "<tr><th>model_id                                           </th><th style=\"text-align: right;\">     auc</th><th style=\"text-align: right;\">  logloss</th><th style=\"text-align: right;\">   aucpr</th><th style=\"text-align: right;\">  mean_per_class_error</th><th style=\"text-align: right;\">    rmse</th><th style=\"text-align: right;\">     mse</th><th style=\"text-align: right;\">  training_time_ms</th><th style=\"text-align: right;\">  predict_time_per_row_ms</th></tr>\n",
       "</thead>\n",
       "<tbody>\n",
       "<tr><td>StackedEnsemble_AllModels_AutoML_20200714_141111   </td><td style=\"text-align: right;\">0.787916</td><td style=\"text-align: right;\"> 0.553829</td><td style=\"text-align: right;\">0.805132</td><td style=\"text-align: right;\">              0.324327</td><td style=\"text-align: right;\">0.43328 </td><td style=\"text-align: right;\">0.187732</td><td style=\"text-align: right;\">              2943</td><td style=\"text-align: right;\">                 0.18505 </td></tr>\n",
       "<tr><td>StackedEnsemble_BestOfFamily_AutoML_20200714_141111</td><td style=\"text-align: right;\">0.785161</td><td style=\"text-align: right;\"> 0.556351</td><td style=\"text-align: right;\">0.802576</td><td style=\"text-align: right;\">              0.33263 </td><td style=\"text-align: right;\">0.434448</td><td style=\"text-align: right;\">0.188745</td><td style=\"text-align: right;\">              1156</td><td style=\"text-align: right;\">                 0.049995</td></tr>\n",
       "<tr><td>GBM_5_AutoML_20200714_141111                       </td><td style=\"text-align: right;\">0.780862</td><td style=\"text-align: right;\"> 0.559708</td><td style=\"text-align: right;\">0.799145</td><td style=\"text-align: right;\">              0.325399</td><td style=\"text-align: right;\">0.436083</td><td style=\"text-align: right;\">0.190168</td><td style=\"text-align: right;\">              1266</td><td style=\"text-align: right;\">                 0.00476 </td></tr>\n",
       "<tr><td>GBM_grid__1_AutoML_20200714_141111_model_6         </td><td style=\"text-align: right;\">0.779677</td><td style=\"text-align: right;\"> 0.559886</td><td style=\"text-align: right;\">0.801394</td><td style=\"text-align: right;\">              0.328174</td><td style=\"text-align: right;\">0.436728</td><td style=\"text-align: right;\">0.190731</td><td style=\"text-align: right;\">              1389</td><td style=\"text-align: right;\">                 0.003832</td></tr>\n",
       "<tr><td>GBM_grid__1_AutoML_20200714_141111_model_3         </td><td style=\"text-align: right;\">0.779386</td><td style=\"text-align: right;\"> 0.562607</td><td style=\"text-align: right;\">0.797915</td><td style=\"text-align: right;\">              0.334245</td><td style=\"text-align: right;\">0.437242</td><td style=\"text-align: right;\">0.191181</td><td style=\"text-align: right;\">               684</td><td style=\"text-align: right;\">                 0.004061</td></tr>\n",
       "<tr><td>GBM_1_AutoML_20200714_141111                       </td><td style=\"text-align: right;\">0.778997</td><td style=\"text-align: right;\"> 0.56159 </td><td style=\"text-align: right;\">0.797276</td><td style=\"text-align: right;\">              0.326697</td><td style=\"text-align: right;\">0.437003</td><td style=\"text-align: right;\">0.190971</td><td style=\"text-align: right;\">              1164</td><td style=\"text-align: right;\">                 0.004689</td></tr>\n",
       "<tr><td>GBM_2_AutoML_20200714_141111                       </td><td style=\"text-align: right;\">0.778338</td><td style=\"text-align: right;\"> 0.561527</td><td style=\"text-align: right;\">0.796497</td><td style=\"text-align: right;\">              0.329805</td><td style=\"text-align: right;\">0.437199</td><td style=\"text-align: right;\">0.191143</td><td style=\"text-align: right;\">              1063</td><td style=\"text-align: right;\">                 0.007222</td></tr>\n",
       "<tr><td>GBM_grid__1_AutoML_20200714_141111_model_1         </td><td style=\"text-align: right;\">0.776443</td><td style=\"text-align: right;\"> 0.570148</td><td style=\"text-align: right;\">0.792348</td><td style=\"text-align: right;\">              0.333251</td><td style=\"text-align: right;\">0.440213</td><td style=\"text-align: right;\">0.193787</td><td style=\"text-align: right;\">               696</td><td style=\"text-align: right;\">                 0.011849</td></tr>\n",
       "<tr><td>GBM_3_AutoML_20200714_141111                       </td><td style=\"text-align: right;\">0.776389</td><td style=\"text-align: right;\"> 0.563906</td><td style=\"text-align: right;\">0.794032</td><td style=\"text-align: right;\">              0.328065</td><td style=\"text-align: right;\">0.438274</td><td style=\"text-align: right;\">0.192084</td><td style=\"text-align: right;\">              1299</td><td style=\"text-align: right;\">                 0.006564</td></tr>\n",
       "<tr><td>GBM_grid__1_AutoML_20200714_141111_model_5         </td><td style=\"text-align: right;\">0.773405</td><td style=\"text-align: right;\"> 0.571628</td><td style=\"text-align: right;\">0.791952</td><td style=\"text-align: right;\">              0.328845</td><td style=\"text-align: right;\">0.4411  </td><td style=\"text-align: right;\">0.19457 </td><td style=\"text-align: right;\">               751</td><td style=\"text-align: right;\">                 0.004627</td></tr>\n",
       "</tbody>\n",
       "</table>"
      ]
     },
     "metadata": {},
     "output_type": "display_data"
    },
    {
     "data": {
      "text/plain": []
     },
     "execution_count": 6,
     "metadata": {},
     "output_type": "execute_result"
    }
   ],
   "source": [
    "\n",
    "# The leader model is stored here\n",
    "aml.leader\n",
    "\n",
    "\n",
    "# To generate predictions on a test set, you can make predictions\n",
    "# directly on the `\"H2OAutoML\"` object or on the leader model\n",
    "# object directly\n",
    "preds = aml.predict(test)\n",
    "\n",
    "# or:\n",
    "preds = aml.leader.predict(test)\n",
    "\n",
    "\n",
    "# Get leaderboard with `extra_columns` = 'ALL'\n",
    "lb = h2o.automl.get_leaderboard(aml, extra_columns = 'ALL')\n",
    "lb\n"
   ]
  },
  {
   "cell_type": "code",
   "execution_count": 4,
   "metadata": {},
   "outputs": [],
   "source": [
    "\n",
    "# Data:\n",
    "# Imported from AWS\n",
    "# https://docs.h2o.ai/h2o/latest-stable/h2o-docs/automl.html\n"
   ]
  }
 ],
 "metadata": {
  "kernelspec": {
   "display_name": "Python 3",
   "language": "python",
   "name": "python3"
  },
  "language_info": {
   "codemirror_mode": {
    "name": "ipython",
    "version": 3
   },
   "file_extension": ".py",
   "mimetype": "text/x-python",
   "name": "python",
   "nbconvert_exporter": "python",
   "pygments_lexer": "ipython3",
   "version": "3.7.6"
  }
 },
 "nbformat": 4,
 "nbformat_minor": 4
}
