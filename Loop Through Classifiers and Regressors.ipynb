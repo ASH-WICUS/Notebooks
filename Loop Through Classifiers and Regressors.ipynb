{
 "cells": [
  {
   "cell_type": "code",
   "execution_count": 1,
   "metadata": {},
   "outputs": [],
   "source": [
    "\n",
    "# In this experiment, we will loop through several Scikit Learn models and see which performs the best on the data set that \n",
    "# is fed into each.  As we iterate through different models, we can get a better and better sense of which\n",
    "# will work best in any given scenario.  There are several theoretical considerations one should take into account. \n",
    "# For example, if your features show strong linear relationships to your dependent variable (target) then \n",
    "# a linear model is likely to work best. If the relationships are non-linear, then maybe an SVM or \n",
    "# instance-based classifier like K-Nearest Neighbors would be best. If explainability in crucial, \n",
    "# a tree based model may be the way to go. \n",
    "\n",
    "# Some of the elements affecting the choice of a model are:\n",
    "#  The accuracy of the model.\n",
    "#  The interpretability of the model.\n",
    "#  The complexity of the model.\n",
    "#  The scalability of the model.\n",
    "#  How long does it take to build, train, and test the model?\n",
    "#  How long does it take to make predictions using the model?\n",
    "#  Does the model meet the business goal?"
   ]
  },
  {
   "cell_type": "code",
   "execution_count": 7,
   "metadata": {},
   "outputs": [
    {
     "name": "stdout",
     "output_type": "stream",
     "text": [
      "              precision    recall  f1-score   support\n",
      "\n",
      "           0       1.00      1.00      1.00        11\n",
      "           1       0.69      0.69      0.69        13\n",
      "           2       0.33      0.33      0.33         6\n",
      "\n",
      "    accuracy                           0.73        30\n",
      "   macro avg       0.68      0.68      0.68        30\n",
      "weighted avg       0.73      0.73      0.73        30\n",
      "\n",
      "[[11  0  0]\n",
      " [ 0  9  4]\n",
      " [ 0  4  2]]\n",
      "accuracy is 0.7333333333333333\n"
     ]
    }
   ],
   "source": [
    "\n",
    "import warnings\n",
    "warnings.filterwarnings('ignore')\n",
    "\n",
    "from sklearn.datasets import load_iris\n",
    "\n",
    "iris = load_iris()\n",
    "iris\n",
    "\n",
    "\n",
    "# Step 1: Reading libraries for Machine Learning models\n",
    "from sklearn.metrics import confusion_matrix\n",
    "from sklearn.metrics import classification_report\n",
    "from sklearn.model_selection import train_test_split\n",
    "\n",
    "\n",
    "# Step 2: Separating the data into dependent and independent variables\n",
    "X = iris.data[:, :2]  # we only take the first two features.\n",
    "y = iris.target\n",
    "\n",
    "\n",
    "# Step 3: Splitting the dataset into the Training set and Test set\n",
    "X_train, X_test, y_train, y_test = train_test_split(X, y, test_size = 0.2, random_state = 0)\n",
    "\n",
    "\n",
    "# Step 4: Building the classifier and testing the output.\n",
    "# Naive Bayes\n",
    "from sklearn.naive_bayes import GaussianNB\n",
    "classifier = GaussianNB()\n",
    "classifier.fit(X_train, y_train)\n",
    " \n",
    "y_pred = classifier.predict(X_test)\n",
    " \n",
    "# Summary of the predictions made by the classifier\n",
    "print(classification_report(y_test, y_pred))\n",
    "print(confusion_matrix(y_test, y_pred))\n",
    "# Accuracy score\n",
    "from sklearn.metrics import accuracy_score\n",
    "print('accuracy is',accuracy_score(y_pred,y_test))\n"
   ]
  },
  {
   "cell_type": "code",
   "execution_count": 8,
   "metadata": {},
   "outputs": [
    {
     "name": "stdout",
     "output_type": "stream",
     "text": [
      "              precision    recall  f1-score   support\n",
      "\n",
      "           0       1.00      0.82      0.90        11\n",
      "           1       0.00      0.00      0.00        13\n",
      "           2       0.29      1.00      0.44         6\n",
      "\n",
      "    accuracy                           0.50        30\n",
      "   macro avg       0.43      0.61      0.45        30\n",
      "weighted avg       0.42      0.50      0.42        30\n",
      "\n",
      "[[ 9  0  2]\n",
      " [ 0  0 13]\n",
      " [ 0  0  6]]\n"
     ]
    }
   ],
   "source": [
    "\n",
    "from sklearn.naive_bayes import MultinomialNB\n",
    "classifier = MultinomialNB()\n",
    "classifier.fit(X_train, y_train)\n",
    " \n",
    "y_pred = classifier.predict(X_test)\n",
    " \n",
    "# Summary of the predictions made by the classifier\n",
    "print(classification_report(y_test, y_pred))\n",
    "print(confusion_matrix(y_test, y_pred))\n"
   ]
  },
  {
   "cell_type": "code",
   "execution_count": 9,
   "metadata": {},
   "outputs": [
    {
     "name": "stdout",
     "output_type": "stream",
     "text": [
      "accuracy is 0.5\n",
      "              precision    recall  f1-score   support\n",
      "\n",
      "           0       0.00      0.00      0.00        11\n",
      "           1       0.00      0.00      0.00        13\n",
      "           2       0.20      1.00      0.33         6\n",
      "\n",
      "    accuracy                           0.20        30\n",
      "   macro avg       0.07      0.33      0.11        30\n",
      "weighted avg       0.04      0.20      0.07        30\n",
      "\n",
      "[[ 0  0 11]\n",
      " [ 0  0 13]\n",
      " [ 0  0  6]]\n",
      "accuracy is 0.2\n"
     ]
    },
    {
     "data": {
      "text/plain": [
       "ComplementNB()"
      ]
     },
     "execution_count": 9,
     "metadata": {},
     "output_type": "execute_result"
    }
   ],
   "source": [
    "\n",
    "# Accuracy score\n",
    "from sklearn.metrics import accuracy_score\n",
    "print('accuracy is',accuracy_score(y_pred,y_test))\n",
    "# Bernoulli Naive Bayes\n",
    "from sklearn.naive_bayes import BernoulliNB\n",
    "classifier = BernoulliNB()\n",
    "classifier.fit(X_train, y_train)\n",
    " \n",
    "y_pred = classifier.predict(X_test)\n",
    " \n",
    "# Summary of the predictions made by the classifier\n",
    "print(classification_report(y_test, y_pred))\n",
    "print(confusion_matrix(y_test, y_pred))\n",
    "# Accuracy score\n",
    "from sklearn.metrics import accuracy_score\n",
    "print('accuracy is',accuracy_score(y_pred,y_test))\n",
    "# Complement Naive Bayes\n",
    "from sklearn.naive_bayes import ComplementNB\n",
    "classifier = ComplementNB()\n",
    "classifier.fit(X_train, y_train)\n"
   ]
  },
  {
   "cell_type": "code",
   "execution_count": 10,
   "metadata": {},
   "outputs": [
    {
     "name": "stdout",
     "output_type": "stream",
     "text": [
      "              precision    recall  f1-score   support\n",
      "\n",
      "           0       0.85      1.00      0.92        11\n",
      "           1       0.00      0.00      0.00        13\n",
      "           2       0.29      0.83      0.43         6\n",
      "\n",
      "    accuracy                           0.53        30\n",
      "   macro avg       0.38      0.61      0.45        30\n",
      "weighted avg       0.37      0.53      0.42        30\n",
      "\n",
      "[[11  0  0]\n",
      " [ 1  0 12]\n",
      " [ 1  0  5]]\n",
      "accuracy is 0.5333333333333333\n"
     ]
    }
   ],
   "source": [
    "\n",
    "y_pred = classifier.predict(X_test)\n",
    " \n",
    "# Summary of the predictions made by the classifier\n",
    "print(classification_report(y_test, y_pred))\n",
    "print(confusion_matrix(y_test, y_pred))\n",
    "# Accuracy score\n",
    "from sklearn.metrics import accuracy_score\n",
    "print('accuracy is',accuracy_score(y_pred,y_test))\n"
   ]
  },
  {
   "cell_type": "code",
   "execution_count": 15,
   "metadata": {},
   "outputs": [
    {
     "name": "stdout",
     "output_type": "stream",
     "text": [
      "==============================\n",
      "GaussianNB\n",
      "****Results****\n",
      "Accuracy: 73.3333%\n",
      "==============================\n",
      "==============================\n",
      "MultinomialNB\n",
      "****Results****\n",
      "Accuracy: 50.0000%\n",
      "==============================\n",
      "==============================\n",
      "BernoulliNB\n",
      "****Results****\n",
      "Accuracy: 20.0000%\n",
      "==============================\n",
      "==============================\n",
      "ComplementNB\n",
      "****Results****\n",
      "Accuracy: 53.3333%\n",
      "==============================\n",
      "==============================\n",
      "MLPClassifier\n",
      "****Results****\n",
      "Accuracy: 56.6667%\n",
      "==============================\n",
      "==============================\n",
      "KNeighborsClassifier\n",
      "****Results****\n",
      "Accuracy: 66.6667%\n",
      "==============================\n",
      "==============================\n",
      "GaussianProcessClassifier\n",
      "****Results****\n",
      "Accuracy: 73.3333%\n",
      "==============================\n",
      "==============================\n",
      "DecisionTreeClassifier\n",
      "****Results****\n",
      "Accuracy: 66.6667%\n",
      "==============================\n",
      "==============================\n",
      "RandomForestClassifier\n",
      "****Results****\n",
      "Accuracy: 53.3333%\n",
      "==============================\n",
      "==============================\n",
      "AdaBoostClassifier\n",
      "****Results****\n",
      "Accuracy: 66.6667%\n",
      "==============================\n",
      "==============================\n",
      "GradientBoostingClassifier\n",
      "****Results****\n",
      "Accuracy: 66.6667%\n",
      "==============================\n",
      "==============================\n",
      "QuadraticDiscriminantAnalysis\n",
      "****Results****\n",
      "Accuracy: 73.3333%\n",
      "==============================\n"
     ]
    },
    {
     "data": {
      "text/plain": [
       "<AxesSubplot:xlabel='Accuracy', ylabel='Classifier'>"
      ]
     },
     "execution_count": 15,
     "metadata": {},
     "output_type": "execute_result"
    },
    {
     "data": {
      "image/png": "[encoded data removed]",
      "text/plain": [
       "<Figure size 432x288 with 1 Axes>"
      ]
     },
     "metadata": {
      "needs_background": "light"
     },
     "output_type": "display_data"
    }
   ],
   "source": [
    "\n",
    "# classification ###############################################################\n",
    "import numpy as np\n",
    "import matplotlib.pyplot as plt\n",
    "from matplotlib.colors import ListedColormap\n",
    "from sklearn.model_selection import train_test_split\n",
    "from sklearn.preprocessing import StandardScaler\n",
    "from sklearn.datasets import make_moons, make_circles, make_classification\n",
    "from sklearn.neural_network import MLPClassifier\n",
    "from sklearn.gaussian_process.kernels import RBF\n",
    "from sklearn.naive_bayes import GaussianNB\n",
    "from sklearn.metrics import accuracy_score, log_loss\n",
    "from sklearn.neighbors import KNeighborsClassifier\n",
    "from sklearn.gaussian_process import GaussianProcessClassifier\n",
    "from sklearn.tree import DecisionTreeClassifier\n",
    "from sklearn.ensemble import RandomForestClassifier, AdaBoostClassifier, GradientBoostingClassifier\n",
    "from sklearn.discriminant_analysis import QuadraticDiscriminantAnalysis\n",
    "from sklearn.svm import SVC\n",
    "\n",
    "classifiers = [\n",
    "    GaussianNB(),\n",
    "    MultinomialNB(),\n",
    "    BernoulliNB(),\n",
    "    ComplementNB(),       \n",
    "    MLPClassifier(),        \n",
    "    KNeighborsClassifier(),\n",
    "    GaussianProcessClassifier(),\n",
    "    DecisionTreeClassifier(),\n",
    "    RandomForestClassifier(),\n",
    "    AdaBoostClassifier(),\n",
    "    GradientBoostingClassifier(),\n",
    "    QuadraticDiscriminantAnalysis()]\n",
    "\n",
    "import pandas as pd \n",
    "# Logging for Visual Comparison\n",
    "log_cols=[\"Classifier\", \"Accuracy\"]\n",
    "log = pd.DataFrame(columns=log_cols)\n",
    " \n",
    "for clf in classifiers:\n",
    "    clf.fit(X_train, y_train)\n",
    "    name = clf.__class__.__name__\n",
    "    \n",
    "    print(\"=\"*30)\n",
    "    print(name)\n",
    "    \n",
    "    print('****Results****')\n",
    "    train_predictions = clf.predict(X_test)\n",
    "    acc = accuracy_score(y_test, train_predictions)\n",
    "    print(\"Accuracy: {:.4%}\".format(acc))\n",
    "    \n",
    "    log_entry = pd.DataFrame([[name, acc*100]], columns=log_cols)\n",
    "    log = log.append(log_entry)\n",
    "    \n",
    "    print(\"=\"*30)\n",
    "\n",
    "\n",
    "log.sort_values(by=['Accuracy'], inplace=True)\n",
    "import seaborn as sns\n",
    "import matplotlib as plt\n",
    "sns.set_color_codes(\"muted\")\n",
    "sns.barplot(x='Accuracy', y='Classifier', data=log, color=\"b\")\n"
   ]
  },
  {
   "cell_type": "code",
   "execution_count": null,
   "metadata": {},
   "outputs": [],
   "source": [
    "\n",
    "# Classification accuracy is our starting point. It is the number of correct predictions made divided \n",
    "# by the total number of predictions made, multiplied by 100 to turn it into a percentage.  The accuracy \n",
    "# tells us, how well overall, the model is making correct predictions.  We also need to consider Precision\n",
    "# and Recall, as shown in the confision matricies produced above.\n"
   ]
  },
  {
   "cell_type": "code",
   "execution_count": 16,
   "metadata": {},
   "outputs": [
    {
     "name": "stdout",
     "output_type": "stream",
     "text": [
      "0.6243701519311865\n",
      "LinearRegression RMSE: 0.4499\n",
      "LinearRegression MAE: 0.3441\n",
      "==============================\n",
      "0.6382719955202438\n",
      "SGDRegressor RMSE: 0.4415\n",
      "SGDRegressor MAE: 0.3532\n",
      "==============================\n",
      "0.6684536082474226\n",
      "KNeighborsRegressor RMSE: 0.4227\n",
      "KNeighborsRegressor MAE: 0.2800\n",
      "==============================\n",
      "0.45876288659793807\n",
      "DecisionTreeRegressor RMSE: 0.5401\n",
      "DecisionTreeRegressor MAE: 0.3167\n",
      "==============================\n",
      "0.5563801956999866\n",
      "RandomForestRegressor RMSE: 0.4889\n",
      "RandomForestRegressor MAE: 0.3479\n",
      "==============================\n",
      "0.5613245412529355\n",
      "GradientBoostingRegressor RMSE: 0.4862\n",
      "GradientBoostingRegressor MAE: 0.3484\n",
      "==============================\n",
      "0.3756170406229613\n",
      "TweedieRegressor RMSE: 0.5801\n",
      "TweedieRegressor MAE: 0.4929\n",
      "==============================\n",
      "0.2449884067323257\n",
      "PoissonRegressor RMSE: 0.5941\n",
      "PoissonRegressor MAE: 0.4982\n",
      "==============================\n",
      "0.6279506847829139\n",
      "Ridge RMSE: 0.4478\n",
      "Ridge MAE: 0.3439\n",
      "==============================\n",
      "-0.08054123711340222\n",
      "Lasso RMSE: 0.7631\n",
      "Lasso MAE: 0.5917\n",
      "==============================\n"
     ]
    },
    {
     "data": {
      "text/plain": [
       "<AxesSubplot:xlabel='RMSE', ylabel='Regressor'>"
      ]
     },
     "execution_count": 16,
     "metadata": {},
     "output_type": "execute_result"
    },
    {
     "data": {
      "image/png": "[encoded data removed]",
      "text/plain": [
       "<Figure size 432x288 with 1 Axes>"
      ]
     },
     "metadata": {
      "needs_background": "light"
     },
     "output_type": "display_data"
    }
   ],
   "source": [
    "\n",
    "# Regression ###################################################################\n",
    "from sklearn.linear_model import LinearRegression\n",
    "regressor = LinearRegression()\n",
    "regressor.fit(X_train, y_train)\n",
    "from sklearn import linear_model\n",
    "import statsmodels.api as sm\n",
    "\n",
    "\n",
    "X = iris.data[:, :2]  # we only take the first two features.\n",
    "y = iris.target\n",
    "\n",
    "\n",
    "# Note the difference in argument order\n",
    "model = sm.OLS(y, X).fit()\n",
    "predictions = model.predict(X) # make the predictions by the model\n",
    "\n",
    "# Print out the statistics\n",
    "model.summary()\n",
    "\n",
    "\n",
    "X_train, X_test, y_train, y_test = train_test_split(X, y, test_size = 0.2, random_state = 0)\n",
    "\n",
    "\n",
    "from sklearn.linear_model import LinearRegression\n",
    "from sklearn.linear_model import SGDRegressor\n",
    "from sklearn.neighbors import KNeighborsRegressor\n",
    "from sklearn.tree import DecisionTreeRegressor\n",
    "from sklearn.ensemble import RandomForestRegressor\n",
    "from sklearn.ensemble import GradientBoostingRegressor\n",
    "from sklearn.linear_model import TweedieRegressor\n",
    "from sklearn.linear_model import PoissonRegressor\n",
    "from sklearn.linear_model import Ridge\n",
    "from sklearn.linear_model import Lasso\n",
    "from sklearn.svm import LinearSVR\n",
    "from sklearn.metrics import mean_squared_error\n",
    "from sklearn.metrics import mean_absolute_error\n",
    "\n",
    "\n",
    "regressors = [\n",
    "    LinearRegression(),\n",
    "    SGDRegressor(),\n",
    "    KNeighborsRegressor(),\n",
    "    DecisionTreeRegressor(),\n",
    "    RandomForestRegressor(),\n",
    "    GradientBoostingRegressor(),\n",
    "    TweedieRegressor(),\n",
    "    PoissonRegressor(),\n",
    "    Ridge(),\n",
    "    Lasso()\n",
    "    ]\n",
    "\n",
    "import pandas as pd \n",
    "# Logging for Visual Comparison\n",
    "log_cols=[\"Regressor\", \"RMSE\", \"MAE\"]\n",
    "log = pd.DataFrame(columns=log_cols)\n",
    " \n",
    "for reg in regressors:\n",
    "    reg.fit(X_train, y_train)\n",
    "    name = reg.__class__.__name__\n",
    "    \n",
    "    print(reg.score(X_test, y_test))\n",
    "    y_pred = reg.predict(X_test)\n",
    "    lr_mse = mean_squared_error(y_pred, y_test)\n",
    "    lr_rmse = np.sqrt(lr_mse)\n",
    "    print(name + ' RMSE: %.4f' % lr_rmse)\n",
    "    lin_mae = mean_absolute_error(y_pred, y_test)\n",
    "    print(name + ' MAE: %.4f' % lin_mae)\n",
    "    \n",
    "    log_entry = pd.DataFrame([[name, lr_rmse, lin_mae]], columns=log_cols)\n",
    "    log = log.append(log_entry)\n",
    "    \n",
    "    print(\"=\"*30)\n",
    "\n",
    "log.sort_values(by=['RMSE'], inplace=True)\n",
    "import seaborn as sns\n",
    "import matplotlib as plt\n",
    "sns.set_color_codes(\"muted\")\n",
    "sns.barplot(x='RMSE', y='Regressor', data=log, color=\"b\")\n"
   ]
  },
  {
   "cell_type": "code",
   "execution_count": null,
   "metadata": {},
   "outputs": [],
   "source": [
    "\n",
    "# Lower values of RMSE indicate better fits.  RMSE is a good measure of how accurately the model \n",
    "# predicts the response, and it is the most important criterion for fit if the main purpose of \n",
    "# the model is prediction.\n"
   ]
  },
  {
   "cell_type": "code",
   "execution_count": null,
   "metadata": {},
   "outputs": [],
   "source": [
    "\n",
    "# There you go!  With minimal effort, we were able to loop through several Scikit Learn algos and see \n",
    "# which performs on a data set.  This way, we can test several algos, quickly and easily, then pick the best\n",
    "# one to deploy in our production environment.\n"
   ]
  }
 ],
 "metadata": {
  "kernelspec": {
   "display_name": "Python 3",
   "language": "python",
   "name": "python3"
  },
  "language_info": {
   "codemirror_mode": {
    "name": "ipython",
    "version": 3
   },
   "file_extension": ".py",
   "mimetype": "text/x-python",
   "name": "python",
   "nbconvert_exporter": "python",
   "pygments_lexer": "ipython3",
   "version": "3.8.5"
  }
 },
 "nbformat": 4,
 "nbformat_minor": 4
}
